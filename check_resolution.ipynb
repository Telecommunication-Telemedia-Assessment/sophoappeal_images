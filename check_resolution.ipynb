{
 "cells": [
  {
   "cell_type": "code",
   "execution_count": 1,
   "metadata": {},
   "outputs": [],
   "source": [
    "# ipython\n",
    "%matplotlib inline\n",
    "\n",
    "from IPython.display import display as d\n",
    "import pandas as pd\n",
    "import numpy as np\n",
    "import seaborn as sns\n",
    "sns.set(rc={'figure.figsize':(12,12)})\n",
    "sns.set_style(\"white\")\n",
    "import glob\n",
    "import json\n",
    "import os\n",
    "import sys\n",
    "import json\n",
    "import shutil\n",
    "import os\n",
    "import sys\n",
    "import multiprocessing\n",
    "import shutil\n",
    "pool = multiprocessing.Pool(multiprocessing.cpu_count())\n",
    "\n",
    "from PIL import Image\n"
   ]
  },
  {
   "cell_type": "code",
   "execution_count": 2,
   "metadata": {},
   "outputs": [
    {
     "data": {
      "text/html": [
       "<div>\n",
       "<style scoped>\n",
       "    .dataframe tbody tr th:only-of-type {\n",
       "        vertical-align: middle;\n",
       "    }\n",
       "\n",
       "    .dataframe tbody tr th {\n",
       "        vertical-align: top;\n",
       "    }\n",
       "\n",
       "    .dataframe thead th {\n",
       "        text-align: right;\n",
       "    }\n",
       "</style>\n",
       "<table border=\"1\" class=\"dataframe\">\n",
       "  <thead>\n",
       "    <tr style=\"text-align: right;\">\n",
       "      <th></th>\n",
       "      <th>dataset</th>\n",
       "      <th>image</th>\n",
       "      <th>width</th>\n",
       "      <th>height</th>\n",
       "    </tr>\n",
       "  </thead>\n",
       "  <tbody>\n",
       "    <tr>\n",
       "      <th>0</th>\n",
       "      <td>pixabay_first50k</td>\n",
       "      <td>pixabay_first50k/images/still-life-art-and-lit...</td>\n",
       "      <td>1280</td>\n",
       "      <td>853</td>\n",
       "    </tr>\n",
       "    <tr>\n",
       "      <th>1</th>\n",
       "      <td>pixabay_first50k</td>\n",
       "      <td>pixabay_first50k/images/textures-3668419.jpg</td>\n",
       "      <td>1280</td>\n",
       "      <td>897</td>\n",
       "    </tr>\n",
       "    <tr>\n",
       "      <th>2</th>\n",
       "      <td>pixabay_first50k</td>\n",
       "      <td>pixabay_first50k/images/goose-3190750.jpg</td>\n",
       "      <td>1280</td>\n",
       "      <td>894</td>\n",
       "    </tr>\n",
       "    <tr>\n",
       "      <th>3</th>\n",
       "      <td>pixabay_first50k</td>\n",
       "      <td>pixabay_first50k/images/swan-fight-4066486.jpg</td>\n",
       "      <td>1280</td>\n",
       "      <td>854</td>\n",
       "    </tr>\n",
       "    <tr>\n",
       "      <th>4</th>\n",
       "      <td>pixabay_first50k</td>\n",
       "      <td>pixabay_first50k/images/el-capitan-4933472.jpg</td>\n",
       "      <td>1280</td>\n",
       "      <td>960</td>\n",
       "    </tr>\n",
       "  </tbody>\n",
       "</table>\n",
       "</div>"
      ],
      "text/plain": [
       "            dataset                                              image  width  \\\n",
       "0  pixabay_first50k  pixabay_first50k/images/still-life-art-and-lit...   1280   \n",
       "1  pixabay_first50k       pixabay_first50k/images/textures-3668419.jpg   1280   \n",
       "2  pixabay_first50k          pixabay_first50k/images/goose-3190750.jpg   1280   \n",
       "3  pixabay_first50k     pixabay_first50k/images/swan-fight-4066486.jpg   1280   \n",
       "4  pixabay_first50k     pixabay_first50k/images/el-capitan-4933472.jpg   1280   \n",
       "\n",
       "   height  \n",
       "0     853  \n",
       "1     897  \n",
       "2     894  \n",
       "3     854  \n",
       "4     960  "
      ]
     },
     "metadata": {},
     "output_type": "display_data"
    }
   ],
   "source": [
    "def extract_resolution(x):\n",
    "    im = Image.open(x)\n",
    "    width, height = im.size\n",
    "    return {\n",
    "        \"dataset\": os.path.basename(os.path.dirname(os.path.dirname(x))),\n",
    "        \"image\": x,\n",
    "        \"width\": width, \n",
    "        \"height\": height\n",
    "    }\n",
    "\n",
    "df = pd.DataFrame(list(map(extract_resolution, glob.glob(\"*/images/*\"))))\n",
    "\n",
    "d(df.head())\n"
   ]
  },
  {
   "cell_type": "code",
   "execution_count": 3,
   "metadata": {},
   "outputs": [
    {
     "name": "stdout",
     "output_type": "stream",
     "text": [
      "['500px_cc0', 'aadb', 'ava', 'koniq10k', 'own', 'pixabay_first50k']\n",
      "267 5472\n",
      "288 5616\n"
     ]
    }
   ],
   "source": [
    "db_order = sorted(set(df[\"dataset\"].values))\n",
    "print(db_order)\n",
    "\n",
    "print(df[\"width\"].min(), df[\"width\"].max())\n",
    "print(df[\"height\"].min(), df[\"height\"].max())\n"
   ]
  },
  {
   "cell_type": "code",
   "execution_count": 4,
   "metadata": {},
   "outputs": [
    {
     "data": {
      "image/png": "[encoded data removed]",
      "text/plain": [
       "<Figure size 432x288 with 1 Axes>"
      ]
     },
     "metadata": {},
     "output_type": "display_data"
    }
   ],
   "source": [
    "sns.set(rc={'figure.figsize':(6,4)})\n",
    "sns.set_style(\"white\")\n",
    "\n",
    "ax = sns.boxplot(data=df, x=\"width\", y=\"dataset\", order=db_order)\n",
    "ax.set_ylabel(\"subset\")\n",
    "ax.set_title(\"image width\")\n",
    "ax.get_figure().savefig(\"image_width.pdf\", bbox_inches=\"tight\")"
   ]
  },
  {
   "cell_type": "code",
   "execution_count": 5,
   "metadata": {},
   "outputs": [
    {
     "data": {
      "image/png": "[encoded data removed]",
      "text/plain": [
       "<Figure size 432x288 with 1 Axes>"
      ]
     },
     "metadata": {},
     "output_type": "display_data"
    }
   ],
   "source": [
    "sns.set(rc={'figure.figsize':(6,4)})\n",
    "sns.set_style(\"white\")\n",
    "\n",
    "ax = sns.boxplot(data=df, x=\"height\", y=\"dataset\", order=db_order)\n",
    "ax.set_ylabel(\"subset\")\n",
    "ax.set_title(\"image height\")\n",
    "\n",
    "ax.get_figure().savefig(\"image_height.pdf\", bbox_inches=\"tight\")"
   ]
  }
 ],
 "metadata": {
  "kernelspec": {
   "display_name": "Python 3 (ipykernel)",
   "language": "python",
   "name": "python3"
  },
  "language_info": {
   "codemirror_mode": {
    "name": "ipython",
    "version": 3
   },
   "file_extension": ".py",
   "mimetype": "text/x-python",
   "name": "python",
   "nbconvert_exporter": "python",
   "pygments_lexer": "ipython3",
   "version": "3.8.10"
  }
 },
 "nbformat": 4,
 "nbformat_minor": 4
}
