{
 "cells": [
  {
   "cell_type": "code",
   "execution_count": 1,
   "metadata": {},
   "outputs": [],
   "source": [
    "%matplotlib inline\n",
    "\n",
    "from IPython.display import display as d\n",
    "import pandas as pd\n",
    "import numpy as np\n",
    "import seaborn as sns\n",
    "sns.set(rc={'figure.figsize':(12,12)})\n",
    "sns.set_style(\"white\")\n",
    "import glob\n",
    "import json\n",
    "import os\n",
    "import sys\n",
    "import shutil\n",
    "import multiprocessing\n",
    "pool = multiprocessing.Pool(multiprocessing.cpu_count())\n",
    "\n",
    "def save_fig(ax, title, pdfname):\n",
    "    ax.set_title(title)\n",
    "    ax.get_figure().savefig(pdfname, bbox_inches=\"tight\")\n",
    "\n"
   ]
  },
  {
   "cell_type": "code",
   "execution_count": 2,
   "metadata": {
    "scrolled": true
   },
   "outputs": [
    {
     "data": {
      "text/html": [
       "<div>\n",
       "<style scoped>\n",
       "    .dataframe tbody tr th:only-of-type {\n",
       "        vertical-align: middle;\n",
       "    }\n",
       "\n",
       "    .dataframe tbody tr th {\n",
       "        vertical-align: top;\n",
       "    }\n",
       "\n",
       "    .dataframe thead th {\n",
       "        text-align: right;\n",
       "    }\n",
       "</style>\n",
       "<table border=\"1\" class=\"dataframe\">\n",
       "  <thead>\n",
       "    <tr style=\"text-align: right;\">\n",
       "      <th></th>\n",
       "      <th>neg</th>\n",
       "      <th>neu</th>\n",
       "      <th>pos</th>\n",
       "      <th>image</th>\n",
       "    </tr>\n",
       "  </thead>\n",
       "  <tbody>\n",
       "    <tr>\n",
       "      <th>0</th>\n",
       "      <td>0.243627</td>\n",
       "      <td>0.099862</td>\n",
       "      <td>0.656510</td>\n",
       "      <td>../../../images/500px_cc0/images/78827175_Mug_...</td>\n",
       "    </tr>\n",
       "    <tr>\n",
       "      <th>1</th>\n",
       "      <td>0.186535</td>\n",
       "      <td>0.308842</td>\n",
       "      <td>0.504624</td>\n",
       "      <td>../../../images/500px_cc0/images/162876571_amo...</td>\n",
       "    </tr>\n",
       "    <tr>\n",
       "      <th>2</th>\n",
       "      <td>0.376438</td>\n",
       "      <td>0.510715</td>\n",
       "      <td>0.112847</td>\n",
       "      <td>../../../images/500px_cc0/images/194901225_Fro...</td>\n",
       "    </tr>\n",
       "    <tr>\n",
       "      <th>3</th>\n",
       "      <td>0.278239</td>\n",
       "      <td>0.360714</td>\n",
       "      <td>0.361047</td>\n",
       "      <td>../../../images/500px_cc0/images/162077443_Sun...</td>\n",
       "    </tr>\n",
       "    <tr>\n",
       "      <th>4</th>\n",
       "      <td>0.094766</td>\n",
       "      <td>0.497986</td>\n",
       "      <td>0.407247</td>\n",
       "      <td>../../../images/500px_cc0/images/139228225_Sun...</td>\n",
       "    </tr>\n",
       "    <tr>\n",
       "      <th>...</th>\n",
       "      <td>...</td>\n",
       "      <td>...</td>\n",
       "      <td>...</td>\n",
       "      <td>...</td>\n",
       "    </tr>\n",
       "    <tr>\n",
       "      <th>1057</th>\n",
       "      <td>0.153218</td>\n",
       "      <td>0.565396</td>\n",
       "      <td>0.281386</td>\n",
       "      <td>../../../images/pixabay_first50k/images/nature...</td>\n",
       "    </tr>\n",
       "    <tr>\n",
       "      <th>1058</th>\n",
       "      <td>0.488797</td>\n",
       "      <td>0.318060</td>\n",
       "      <td>0.193143</td>\n",
       "      <td>../../../images/pixabay_first50k/images/potion...</td>\n",
       "    </tr>\n",
       "    <tr>\n",
       "      <th>1059</th>\n",
       "      <td>0.062217</td>\n",
       "      <td>0.571392</td>\n",
       "      <td>0.366391</td>\n",
       "      <td>../../../images/pixabay_first50k/images/wine-1...</td>\n",
       "    </tr>\n",
       "    <tr>\n",
       "      <th>1060</th>\n",
       "      <td>0.274270</td>\n",
       "      <td>0.337339</td>\n",
       "      <td>0.388391</td>\n",
       "      <td>../../../images/pixabay_first50k/images/waters...</td>\n",
       "    </tr>\n",
       "    <tr>\n",
       "      <th>1061</th>\n",
       "      <td>0.248385</td>\n",
       "      <td>0.399757</td>\n",
       "      <td>0.351859</td>\n",
       "      <td>../../../images/pixabay_first50k/images/stilt-...</td>\n",
       "    </tr>\n",
       "  </tbody>\n",
       "</table>\n",
       "<p>1062 rows × 4 columns</p>\n",
       "</div>"
      ],
      "text/plain": [
       "           neg       neu       pos  \\\n",
       "0     0.243627  0.099862  0.656510   \n",
       "1     0.186535  0.308842  0.504624   \n",
       "2     0.376438  0.510715  0.112847   \n",
       "3     0.278239  0.360714  0.361047   \n",
       "4     0.094766  0.497986  0.407247   \n",
       "...        ...       ...       ...   \n",
       "1057  0.153218  0.565396  0.281386   \n",
       "1058  0.488797  0.318060  0.193143   \n",
       "1059  0.062217  0.571392  0.366391   \n",
       "1060  0.274270  0.337339  0.388391   \n",
       "1061  0.248385  0.399757  0.351859   \n",
       "\n",
       "                                                  image  \n",
       "0     ../../../images/500px_cc0/images/78827175_Mug_...  \n",
       "1     ../../../images/500px_cc0/images/162876571_amo...  \n",
       "2     ../../../images/500px_cc0/images/194901225_Fro...  \n",
       "3     ../../../images/500px_cc0/images/162077443_Sun...  \n",
       "4     ../../../images/500px_cc0/images/139228225_Sun...  \n",
       "...                                                 ...  \n",
       "1057  ../../../images/pixabay_first50k/images/nature...  \n",
       "1058  ../../../images/pixabay_first50k/images/potion...  \n",
       "1059  ../../../images/pixabay_first50k/images/wine-1...  \n",
       "1060  ../../../images/pixabay_first50k/images/waters...  \n",
       "1061  ../../../images/pixabay_first50k/images/stilt-...  \n",
       "\n",
       "[1062 rows x 4 columns]"
      ]
     },
     "metadata": {},
     "output_type": "display_data"
    }
   ],
   "source": [
    "dvs = pd.read_csv(\"visual_sentiment.csv\")\n",
    "d(dvs)"
   ]
  },
  {
   "cell_type": "code",
   "execution_count": 3,
   "metadata": {},
   "outputs": [
    {
     "data": {
      "text/html": [
       "<div>\n",
       "<style scoped>\n",
       "    .dataframe tbody tr th:only-of-type {\n",
       "        vertical-align: middle;\n",
       "    }\n",
       "\n",
       "    .dataframe tbody tr th {\n",
       "        vertical-align: top;\n",
       "    }\n",
       "\n",
       "    .dataframe thead th {\n",
       "        text-align: right;\n",
       "    }\n",
       "</style>\n",
       "<table border=\"1\" class=\"dataframe\">\n",
       "  <thead>\n",
       "    <tr style=\"text-align: right;\">\n",
       "      <th></th>\n",
       "      <th>image</th>\n",
       "      <th>variable</th>\n",
       "      <th>value</th>\n",
       "    </tr>\n",
       "  </thead>\n",
       "  <tbody>\n",
       "    <tr>\n",
       "      <th>0</th>\n",
       "      <td>../../../images/500px_cc0/images/78827175_Mug_...</td>\n",
       "      <td>pos</td>\n",
       "      <td>0.656510</td>\n",
       "    </tr>\n",
       "    <tr>\n",
       "      <th>1</th>\n",
       "      <td>../../../images/500px_cc0/images/162876571_amo...</td>\n",
       "      <td>pos</td>\n",
       "      <td>0.504624</td>\n",
       "    </tr>\n",
       "    <tr>\n",
       "      <th>2</th>\n",
       "      <td>../../../images/500px_cc0/images/194901225_Fro...</td>\n",
       "      <td>pos</td>\n",
       "      <td>0.112847</td>\n",
       "    </tr>\n",
       "    <tr>\n",
       "      <th>3</th>\n",
       "      <td>../../../images/500px_cc0/images/162077443_Sun...</td>\n",
       "      <td>pos</td>\n",
       "      <td>0.361047</td>\n",
       "    </tr>\n",
       "    <tr>\n",
       "      <th>4</th>\n",
       "      <td>../../../images/500px_cc0/images/139228225_Sun...</td>\n",
       "      <td>pos</td>\n",
       "      <td>0.407247</td>\n",
       "    </tr>\n",
       "    <tr>\n",
       "      <th>...</th>\n",
       "      <td>...</td>\n",
       "      <td>...</td>\n",
       "      <td>...</td>\n",
       "    </tr>\n",
       "    <tr>\n",
       "      <th>3181</th>\n",
       "      <td>../../../images/pixabay_first50k/images/nature...</td>\n",
       "      <td>neu</td>\n",
       "      <td>0.565396</td>\n",
       "    </tr>\n",
       "    <tr>\n",
       "      <th>3182</th>\n",
       "      <td>../../../images/pixabay_first50k/images/potion...</td>\n",
       "      <td>neu</td>\n",
       "      <td>0.318060</td>\n",
       "    </tr>\n",
       "    <tr>\n",
       "      <th>3183</th>\n",
       "      <td>../../../images/pixabay_first50k/images/wine-1...</td>\n",
       "      <td>neu</td>\n",
       "      <td>0.571392</td>\n",
       "    </tr>\n",
       "    <tr>\n",
       "      <th>3184</th>\n",
       "      <td>../../../images/pixabay_first50k/images/waters...</td>\n",
       "      <td>neu</td>\n",
       "      <td>0.337339</td>\n",
       "    </tr>\n",
       "    <tr>\n",
       "      <th>3185</th>\n",
       "      <td>../../../images/pixabay_first50k/images/stilt-...</td>\n",
       "      <td>neu</td>\n",
       "      <td>0.399757</td>\n",
       "    </tr>\n",
       "  </tbody>\n",
       "</table>\n",
       "<p>3186 rows × 3 columns</p>\n",
       "</div>"
      ],
      "text/plain": [
       "                                                  image variable     value\n",
       "0     ../../../images/500px_cc0/images/78827175_Mug_...      pos  0.656510\n",
       "1     ../../../images/500px_cc0/images/162876571_amo...      pos  0.504624\n",
       "2     ../../../images/500px_cc0/images/194901225_Fro...      pos  0.112847\n",
       "3     ../../../images/500px_cc0/images/162077443_Sun...      pos  0.361047\n",
       "4     ../../../images/500px_cc0/images/139228225_Sun...      pos  0.407247\n",
       "...                                                 ...      ...       ...\n",
       "3181  ../../../images/pixabay_first50k/images/nature...      neu  0.565396\n",
       "3182  ../../../images/pixabay_first50k/images/potion...      neu  0.318060\n",
       "3183  ../../../images/pixabay_first50k/images/wine-1...      neu  0.571392\n",
       "3184  ../../../images/pixabay_first50k/images/waters...      neu  0.337339\n",
       "3185  ../../../images/pixabay_first50k/images/stilt-...      neu  0.399757\n",
       "\n",
       "[3186 rows x 3 columns]"
      ]
     },
     "metadata": {},
     "output_type": "display_data"
    }
   ],
   "source": [
    "\n",
    "df = dvs.melt(id_vars=['image'], value_vars=['pos', \"neg\", \"neu\"])\n",
    "d(df)"
   ]
  },
  {
   "cell_type": "code",
   "execution_count": 5,
   "metadata": {},
   "outputs": [
    {
     "data": {
      "text/plain": [
       "'../images/aadb/images/farm1_301_19659786384_c86c7e1f30_b.jpg'"
      ]
     },
     "metadata": {},
     "output_type": "display_data"
    }
   ],
   "source": [
    "maxpos = df[df[\"variable\"] ==\"pos\"].sort_values(by=\"value\").tail(10)[\"image\"].tail(7).values[0].replace(\"../../\", \"\")\n",
    "d(maxpos)\n",
    "! cp $maxpos visualsentiment_maxpos_$(basename $maxpos)"
   ]
  },
  {
   "cell_type": "code",
   "execution_count": 6,
   "metadata": {},
   "outputs": [
    {
     "data": {
      "text/plain": [
       "'../images/500px_cc0/images/78892113_Valkenswaard.jpg'"
      ]
     },
     "metadata": {},
     "output_type": "display_data"
    }
   ],
   "source": [
    "\n",
    "maxneu = df[df[\"variable\"] ==\"neu\"].sort_values(by=\"value\").tail(10)[\"image\"].tail(9).values[0].replace(\"../../\", \"\")\n",
    "d(maxneu)\n",
    "\n",
    "! cp $maxneu visualsentiment_maxneu_$(basename $maxneu)\n"
   ]
  },
  {
   "cell_type": "code",
   "execution_count": 7,
   "metadata": {},
   "outputs": [
    {
     "data": {
      "text/plain": [
       "'../images/koniq10k/images/7056790837.jpg'"
      ]
     },
     "metadata": {},
     "output_type": "display_data"
    }
   ],
   "source": [
    "maxneg = df[df[\"variable\"] ==\"neg\"].sort_values(by=\"value\").tail(10)[\"image\"].tail(7).values[0].replace(\"../../\", \"\")\n",
    "d(maxneg)\n",
    "\n",
    "! cp $maxneg visualsentiment_maxneg_$(basename $maxneg)\n"
   ]
  },
  {
   "cell_type": "code",
   "execution_count": 8,
   "metadata": {},
   "outputs": [
    {
     "data": {
      "image/png": "[encoded data removed]",
      "text/plain": [
       "<Figure size 576x360 with 1 Axes>"
      ]
     },
     "metadata": {},
     "output_type": "display_data"
    }
   ],
   "source": [
    "sns.set(rc={'figure.figsize':(8,5)})\n",
    "sns.set_style(\"white\")\n",
    "ax = sns.boxplot(x=\"value\", y=\"variable\", data=df, order=[\"neg\", \"pos\", \"neu\"], palette=\"hls\")\n",
    "\n",
    "save_fig(ax, \"visual sentiment of images\", \"visualsentiment/visual_sentiment.pdf\")"
   ]
  }
 ],
 "metadata": {
  "kernelspec": {
   "display_name": "Python 3 (ipykernel)",
   "language": "python",
   "name": "python3"
  },
  "language_info": {
   "codemirror_mode": {
    "name": "ipython",
    "version": 3
   },
   "file_extension": ".py",
   "mimetype": "text/x-python",
   "name": "python",
   "nbconvert_exporter": "python",
   "pygments_lexer": "ipython3",
   "version": "3.8.10"
  }
 },
 "nbformat": 4,
 "nbformat_minor": 4
}
